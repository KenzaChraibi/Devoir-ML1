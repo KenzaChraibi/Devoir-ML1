{
  "nbformat": 4,
  "nbformat_minor": 0,
  "metadata": {
    "colab": {
      "provenance": [],
      "collapsed_sections": [],
      "toc_visible": true,
      "authorship_tag": "ABX9TyPZh07uWH2GEV0YsJG5qlHU",
      "include_colab_link": true
    },
    "kernelspec": {
      "name": "python3",
      "display_name": "Python 3"
    },
    "language_info": {
      "name": "python"
    }
  },
  "cells": [
    {
      "cell_type": "markdown",
      "metadata": {
        "id": "view-in-github",
        "colab_type": "text"
      },
      "source": [
        "<a href=\"https://colab.research.google.com/github/KenzaChraibi/Devoir-ML1/blob/main/Devoir_ML1.ipynb\" target=\"_parent\"><img src=\"https://colab.research.google.com/assets/colab-badge.svg\" alt=\"Open In Colab\"/></a>"
      ]
    },
    {
      "cell_type": "markdown",
      "source": [],
      "metadata": {
        "id": "r3B3577tftNO"
      }
    },
    {
      "cell_type": "markdown",
      "source": [
        "# Général"
      ],
      "metadata": {
        "id": "EpSDdoWb6Yd6"
      }
    },
    {
      "cell_type": "code",
      "source": [
        "import pandas as pd\n",
        "import numpy as np   \n",
        "import matplotlib.pyplot as plt\n",
        "import sklearn as sk\n",
        "import seaborn as sns\n",
        "\n",
        "#Récupérer les données pour la classification\n",
        "!rm -rf Devoir-ML1/\n",
        "!git clone https://github.com/KenzaChraibi/Devoir-ML1\n",
        "\n",
        "#Loader les données pour la classification\n",
        "data = np.load(\"/content/Devoir-ML1/a22_devoir_q2-classification.npz\")\n",
        "X = data[\"X\"]\n",
        "y = data[\"y\"]"
      ],
      "metadata": {
        "colab": {
          "base_uri": "https://localhost:8080/"
        },
        "id": "DZLm-ee_fwLN",
        "outputId": "5387d931-abb3-4f6d-ff23-691dfa1fef7b"
      },
      "execution_count": 1,
      "outputs": [
        {
          "output_type": "stream",
          "name": "stdout",
          "text": [
            "Cloning into 'Devoir-ML1'...\n",
            "remote: Enumerating objects: 12, done.\u001b[K\n",
            "remote: Counting objects: 100% (12/12), done.\u001b[K\n",
            "remote: Compressing objects: 100% (9/9), done.\u001b[K\n",
            "remote: Total 12 (delta 2), reused 6 (delta 1), pack-reused 0\u001b[K\n",
            "Unpacking objects: 100% (12/12), done.\n"
          ]
        }
      ]
    },
    {
      "cell_type": "markdown",
      "source": [
        "# Question 2 : Classification"
      ],
      "metadata": {
        "id": "c0GJoUKI6pZI"
      }
    },
    {
      "cell_type": "markdown",
      "source": [
        "## Question 2.1"
      ],
      "metadata": {
        "id": "AxXUZZh37Zxb"
      }
    },
    {
      "cell_type": "code",
      "source": [
        "# Visualisation\n",
        "df = pd.DataFrame(np.column_stack((X,y)), columns = ['X1','X2','y'])\n",
        "#fig, (ax1, ax2) = plt.subplots(1, 2)\n",
        "#ax1.scatter(X[:,0],X[:,1])\n",
        "#sns.scatterplot(ax=ax2, x=\"X1\", y=\"X2\", data=df, hue=\"y\")\n",
        "sns.scatterplot(x=\"X1\", y=\"X2\", data=df, hue=\"y\").set(title='Exploration visuelle des données')"
      ],
      "metadata": {
        "colab": {
          "base_uri": "https://localhost:8080/",
          "height": 313
        },
        "id": "fqjOWTMnmZgu",
        "outputId": "b656b704-3031-4483-c8d0-a86b8780b1df"
      },
      "execution_count": 3,
      "outputs": [
        {
          "output_type": "execute_result",
          "data": {
            "text/plain": [
              "[Text(0.5, 1.0, 'Exploration visuelle des données')]"
            ]
          },
          "metadata": {},
          "execution_count": 3
        },
        {
          "output_type": "display_data",
          "data": {
            "text/plain": [
              "<Figure size 432x288 with 1 Axes>"
            ],
            "image/png": "[encoded data removed]"
          },
          "metadata": {
            "needs_background": "light"
          }
        }
      ]
    },
    {
      "cell_type": "markdown",
      "source": [
        "## Question 2.2"
      ],
      "metadata": {
        "id": "ZniYgm0w7my4"
      }
    },
    {
      "cell_type": "code",
      "source": [
        "#Diviser l'échantillon en 3\n",
        "from sklearn.model_selection import train_test_split\n",
        "X_train, X_VT, y_train, y_VT = train_test_split(\n",
        "    X, y, test_size=0.4, random_state=1234)\n",
        "X_valid, X_test, y_valid, y_test = train_test_split(\n",
        "    X_VT, y_VT, test_size=0.5, random_state=1234)\n",
        "#Vérifier la séparation\n",
        "print(len(X_train),len(X_valid),len(X_test))"
      ],
      "metadata": {
        "colab": {
          "base_uri": "https://localhost:8080/"
        },
        "id": "doCiqIVnyuNN",
        "outputId": "b2cee308-99f3-43f0-a51d-5042605a043d"
      },
      "execution_count": 4,
      "outputs": [
        {
          "output_type": "stream",
          "name": "stdout",
          "text": [
            "60 20 20\n"
          ]
        }
      ]
    },
    {
      "cell_type": "code",
      "source": [
        "#Entraîner un SVM\n",
        "from sklearn.svm import SVC\n",
        "a=0\n",
        "acc_train=[]\n",
        "acc_valid=[]\n",
        "for i in [0.001, 0.01, 0.1, 1, 10]:\n",
        "  model = SVC(kernel='linear', C=i)\n",
        "  model.fit(X_train, y_train)\n",
        "  acc_train.append((sum(model.predict(X_train)==y_train)/len(y_train))*100)\n",
        "  acc_valid.append((sum(model.predict(X_valid)==y_valid)/len(y_valid)) *100) \n",
        "  print(\"Accuracy train for C= \",i,\" : \", \"{:.2f}\".format(acc_train[a]), \"%\")\n",
        "  print(\"Accuracy valid for C= \",i,\" : \", \"{:.2f}\".format(acc_valid[a]), \"%\")\n",
        "  a+=1"
      ],
      "metadata": {
        "colab": {
          "base_uri": "https://localhost:8080/"
        },
        "id": "0VLUCZiW6THg",
        "outputId": "aeb85420-800e-49e7-9dab-42a7811bd7b9"
      },
      "execution_count": 189,
      "outputs": [
        {
          "output_type": "stream",
          "name": "stdout",
          "text": [
            "Accuracy train for C=  0.001  :  38.33 %\n",
            "Accuracy valid for C=  0.001  :  25.00 %\n",
            "Accuracy train for C=  0.01  :  86.67 %\n",
            "Accuracy valid for C=  0.01  :  85.00 %\n",
            "Accuracy train for C=  0.1  :  88.33 %\n",
            "Accuracy valid for C=  0.1  :  85.00 %\n",
            "Accuracy train for C=  1  :  88.33 %\n",
            "Accuracy valid for C=  1  :  85.00 %\n",
            "Accuracy train for C=  10  :  90.00 %\n",
            "Accuracy valid for C=  10  :  85.00 %\n"
          ]
        }
      ]
    },
    {
      "cell_type": "code",
      "source": [
        "# Entraîner le meilleur SVM sur l'ensemble de test\n",
        "model = SVC(kernel='linear', C=10)\n",
        "model.fit(X_train,y_train)\n",
        "acc = (sum(model.predict(X_test)==y_test)/len(y_test))*100\n",
        "print('Le taux de bonne classification du meilleur modèle pour le test est ', \n",
        "      \"{:.2f}\".format(acc),'%')"
      ],
      "metadata": {
        "colab": {
          "base_uri": "https://localhost:8080/"
        },
        "id": "Xp67PCJiBnoE",
        "outputId": "1b4740e8-1918-4608-fbc9-e0e9492addc0"
      },
      "execution_count": 202,
      "outputs": [
        {
          "output_type": "stream",
          "name": "stdout",
          "text": [
            "Le taux de bonne classification du meilleur modèle pour le test est  85.00 %\n"
          ]
        }
      ]
    },
    {
      "cell_type": "markdown",
      "source": [
        "## Question 2.3"
      ],
      "metadata": {
        "id": "5JicKI81JC30"
      }
    },
    {
      "cell_type": "code",
      "source": [
        "# Combiner les datasets train et valid pour la validation croisée\n",
        "X_cv = np.row_stack((X_train, X_valid))\n",
        "y_cv = np.concatenate((y_train,y_valid))\n",
        "\n",
        "# Entraîner un SVM par CV\n",
        "from sklearn.model_selection import cross_validate\n",
        "from sklearn.svm import SVC\n",
        "\n",
        "for i in [0.001, 0.01, 0.1, 1, 10]:\n",
        "  model = SVC(kernel='linear', C=i)\n",
        "  cv_score = cross_validate(model, X_cv, y_cv, cv=10, \n",
        "                            scoring='accuracy',return_train_score=True)\n",
        "  print('Mean train accuracy for C= ',i,' : ', \"{:.4f}\".format(np.mean(cv_score['train_score'])))\n",
        "  print('Mean valid accuracy for C= ',i,' : ', \"{:.4f}\".format(np.mean(cv_score['test_score'])))\n",
        "  "
      ],
      "metadata": {
        "id": "wQ0ARPWfJIx9",
        "colab": {
          "base_uri": "https://localhost:8080/"
        },
        "outputId": "0b3af407-2d5a-4935-a3fa-545b5e4d16d1"
      },
      "execution_count": 203,
      "outputs": [
        {
          "output_type": "stream",
          "name": "stdout",
          "text": [
            "Mean train accuracy for C=  0.001  :  0.5472\n",
            "Mean valid accuracy for C=  0.001  :  0.5250\n",
            "Mean train accuracy for C=  0.01  :  0.8819\n",
            "Mean valid accuracy for C=  0.01  :  0.8750\n",
            "Mean train accuracy for C=  0.1  :  0.8889\n",
            "Mean valid accuracy for C=  0.1  :  0.8750\n",
            "Mean train accuracy for C=  1  :  0.8903\n",
            "Mean valid accuracy for C=  1  :  0.8750\n",
            "Mean train accuracy for C=  10  :  0.9028\n",
            "Mean valid accuracy for C=  10  :  0.8750\n"
          ]
        }
      ]
    },
    {
      "cell_type": "code",
      "source": [
        "# Obtenir les prédictions pour l'ensemble de test\n",
        "# Meilleur modèle avec C=10\n",
        "model = SVC(kernel='linear', C=10)\n",
        "cv_score = cross_validate(model, X_cv, y_cv, cv=10, \n",
        "             scoring='accuracy',return_train_score=True, return_estimator=True)\n",
        "# Obtenir 10 prédictions par exemple, soit 1 par modèle du 10-fold\n",
        "pred = np.ones((10,20))\n",
        "for i in np.arange(0,10,1):\n",
        "  pred[i] = cv_score['estimator'][i].predict(X_test)\n",
        "pred = pred.T #Chaque ligne contient les 10 prédictions pour un même exemple\n",
        "\n",
        "# Parcourir les 20 exemples du test pour déterminer la classe majoritaire\n",
        "test_pred = np.ones(20)\n",
        "for a in np.arange(0,20,1):\n",
        "  values, counts = np.unique(pred[a], return_counts=True)\n",
        "  test_pred[a] = values[np.argmax(counts)]#Classe majoritaire par exemple\n",
        "\n",
        "acc = (sum(test_pred==y_test)/len(y_test))*100\n",
        "print('Le taux de bonne classification du meilleur modèle pour le test est ', \n",
        "      \"{:.2f}\".format(acc),'%')"
      ],
      "metadata": {
        "colab": {
          "base_uri": "https://localhost:8080/"
        },
        "id": "76jd4L1EQ-O2",
        "outputId": "f807bcee-fd05-48b8-c78a-f01cdc358e61"
      },
      "execution_count": 214,
      "outputs": [
        {
          "output_type": "stream",
          "name": "stdout",
          "text": [
            "Le taux de bonne classification du meilleur modèle pour le test est  95.00 %\n"
          ]
        }
      ]
    },
    {
      "cell_type": "markdown",
      "source": [
        "# Question 3 : Régression"
      ],
      "metadata": {
        "id": "d1cJvmQZOLcB"
      }
    },
    {
      "cell_type": "markdown",
      "source": [
        "## Pré-traitement des données"
      ],
      "metadata": {
        "id": "8dQyzqqlORU2"
      }
    },
    {
      "cell_type": "code",
      "source": [
        "# Loader les données de régression\n",
        "df = pd.read_csv('/content/Devoir-ML1/reviews.tsv', sep='\\t', header=None)\n",
        "df.columns = ['Review', 'Critic']\n",
        "\n",
        "#Enlever les nan\n",
        "from numpy import nan\n",
        "Critic = [item for item in df.Critic if not(pd.isnull(item)) == True]\n",
        "Review = df.Review[pd.isnull(df.Critic)==False]"
      ],
      "metadata": {
        "id": "qkpQNxViOZZ3"
      },
      "execution_count": 104,
      "outputs": []
    },
    {
      "cell_type": "code",
      "source": [
        "#Diviser l'échantillon en 3\n",
        "from sklearn.model_selection import train_test_split\n",
        "X_train, X_VT, y_train, y_VT = train_test_split(\n",
        "    Critic, Review, test_size=0.2, random_state=1234)\n",
        "X_valid, X_test, y_valid, y_test = train_test_split(\n",
        "    X_VT, y_VT, test_size=0.5, random_state=1234)\n",
        "#Vérifier la séparation\n",
        "print(len(X_train),len(X_valid),len(X_test))"
      ],
      "metadata": {
        "colab": {
          "base_uri": "https://localhost:8080/"
        },
        "id": "QHcJqI7rGwSg",
        "outputId": "c3fa7f49-7abb-45e5-8dca-3574358dcc84"
      },
      "execution_count": 105,
      "outputs": [
        {
          "output_type": "stream",
          "name": "stdout",
          "text": [
            "7994 999 1000\n"
          ]
        }
      ]
    },
    {
      "cell_type": "code",
      "source": [
        "# Représentation Bag-of-words\n",
        "from sklearn.feature_extraction.text import TfidfVectorizer\n",
        "vectorizer = TfidfVectorizer(max_features=2000,stop_words=\"english\")\n",
        "X_trainB = vectorizer.fit_transform(X_train)\n",
        "X_validB = vectorizer.fit_transform(X_valid)\n",
        "X_testB = vectorizer.fit_transform(X_test)\n",
        "\n",
        "# Vérifier le nombre de mots conservés\n",
        "vectorizer.get_feature_names_out().shape"
      ],
      "metadata": {
        "colab": {
          "base_uri": "https://localhost:8080/"
        },
        "id": "el5k37UFHD6v",
        "outputId": "4f363fbb-8cf7-4119-8ed0-5212b20c3dbf"
      },
      "execution_count": 118,
      "outputs": [
        {
          "output_type": "execute_result",
          "data": {
            "text/plain": [
              "(2000,)"
            ]
          },
          "metadata": {},
          "execution_count": 118
        }
      ]
    },
    {
      "cell_type": "markdown",
      "source": [
        "## Algorithme K-NN"
      ],
      "metadata": {
        "id": "ABC-5Mhc1bdB"
      }
    },
    {
      "cell_type": "code",
      "source": [],
      "metadata": {
        "id": "JeqLBrPY1iB6"
      },
      "execution_count": null,
      "outputs": []
    }
  ]
}